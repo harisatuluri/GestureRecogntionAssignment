{
 "cells": [
  {
   "cell_type": "markdown",
   "metadata": {
    "id": "AOiz2SX-vz66"
   },
   "source": [
    "# Gesture Recognition\n",
    "In this group project, you are going to build a 3D Conv model that will be able to predict the 5 gestures correctly. Please import the following libraries to get started."
   ]
  },
  {
   "cell_type": "code",
   "execution_count": 1,
   "metadata": {
    "colab": {
     "base_uri": "https://localhost:8080/"
    },
    "executionInfo": {
     "elapsed": 24644,
     "status": "ok",
     "timestamp": 1709734425962,
     "user": {
      "displayName": "Hari Satuluri",
      "userId": "18305238660923205796"
     },
     "user_tz": -330
    },
    "id": "vwnvSMiCv_T3",
    "outputId": "73bb684c-b2ac-48f9-a0db-3812aaa90719"
   },
   "outputs": [],
   "source": [
    "# from google.colab import drive\n",
    "# drive.mount('/content/drive')"
   ]
  },
  {
   "cell_type": "code",
   "execution_count": 2,
   "metadata": {
    "executionInfo": {
     "elapsed": 1551,
     "status": "ok",
     "timestamp": 1709734427509,
     "user": {
      "displayName": "Hari Satuluri",
      "userId": "18305238660923205796"
     },
     "user_tz": -330
    },
    "id": "z0KpbGBevz6-"
   },
   "outputs": [],
   "source": [
    "import numpy as np\n",
    "import os\n",
    "from imageio import imread\n",
    "from skimage.transform import resize\n",
    "import datetime\n",
    "import os"
   ]
  },
  {
   "cell_type": "markdown",
   "metadata": {
    "id": "BpUKSPTpvz7A"
   },
   "source": [
    "We set the random seed so that the results don't vary drastically."
   ]
  },
  {
   "cell_type": "code",
   "execution_count": 3,
   "metadata": {
    "executionInfo": {
     "elapsed": 2802,
     "status": "ok",
     "timestamp": 1709734430308,
     "user": {
      "displayName": "Hari Satuluri",
      "userId": "18305238660923205796"
     },
     "user_tz": -330
    },
    "id": "vEUtQBtHvz7A"
   },
   "outputs": [],
   "source": [
    "np.random.seed(30)\n",
    "import random as rn\n",
    "rn.seed(30)\n",
    "from keras import backend as K\n",
    "import tensorflow as tf\n",
    "tf.random.set_seed(30)"
   ]
  },
  {
   "cell_type": "markdown",
   "metadata": {
    "id": "dkOimgM1vz7A"
   },
   "source": [
    "In this block, you read the folder names for training and validation. You also set the `batch_size` here. Note that you set the batch size in such a way that you are able to use the GPU in full capacity. You keep increasing the batch size until the machine throws an error."
   ]
  },
  {
   "cell_type": "code",
   "execution_count": 4,
   "metadata": {
    "executionInfo": {
     "elapsed": 1792,
     "status": "ok",
     "timestamp": 1709734432097,
     "user": {
      "displayName": "Hari Satuluri",
      "userId": "18305238660923205796"
     },
     "user_tz": -330
    },
    "id": "LZzDnjYYvz7B"
   },
   "outputs": [],
   "source": [
    "train_doc = np.random.permutation(open('datasets/Project_data/train.csv').readlines())\n",
    "val_doc = np.random.permutation(open('datasets/Project_data/val.csv').readlines())\n",
    "batch_size = 32\n",
    "img_height = 100\n",
    "img_width = 100"
   ]
  },
  {
   "cell_type": "markdown",
   "metadata": {
    "id": "1fo8rX4Bvz7B"
   },
   "source": [
    "## Generator\n",
    "This is one of the most important part of the code. The overall structure of the generator has been given. In the generator, you are going to preprocess the images as you have images of 2 different dimensions as well as create a batch of video frames. You have to experiment with `img_idx`, `y`,`z` and normalization such that you get high accuracy."
   ]
  },
  {
   "cell_type": "code",
   "execution_count": 5,
   "metadata": {
    "executionInfo": {
     "elapsed": 5,
     "status": "ok",
     "timestamp": 1709734432097,
     "user": {
      "displayName": "Hari Satuluri",
      "userId": "18305238660923205796"
     },
     "user_tz": -330
    },
    "id": "wjiZ8t_cvz7B"
   },
   "outputs": [],
   "source": [
    "img_idx = [1,2,4,6,8,10,12,14,25,26,27,28,29]\n",
    "def generator(source_path, folder_list, batch_size):\n",
    "    print( 'Source path = ', source_path, '; batch size =', batch_size)\n",
    "    while True:\n",
    "        t = np.random.permutation(folder_list)\n",
    "        num_batches = int(len(t)/batch_size)\n",
    "        for batch in range(num_batches): # we iterate over the number of batches\n",
    "            batch_data = np.zeros((batch_size,len(img_idx),img_height,img_width,3)) # x is the number of images you use for each video, (y,z) is the final size of the input images and 3 is the number of channels RGB\n",
    "            batch_labels = np.zeros((batch_size,5)) # batch_labels is the one hot representation of the output\n",
    "            for folder in range(batch_size): # iterate over the batch_size\n",
    "                imgs = os.listdir(source_path+'/'+ t[folder + (batch*batch_size)].split(';')[0]) # read all the images in the folder\n",
    "                for idx,item in enumerate(img_idx): #  Iterate iver the frames/images of a folder to read them in\n",
    "                    image = imread(source_path+'/'+ t[folder + (batch*batch_size)].strip().split(';')[0]+'/'+imgs[item]).astype(np.float32)\n",
    "\n",
    "                    image_croped=resize(image,(img_height,img_width,3))\n",
    "\n",
    "                    batch_data[folder,idx,:,:,0] = (image_croped[:,:,0])/255\n",
    "                    batch_data[folder,idx,:,:,1] = (image_croped[:,:,1])/255\n",
    "                    batch_data[folder,idx,:,:,2] = (image_croped[:,:,2])/255\n",
    "\n",
    "                batch_labels[folder, int(t[folder + (batch*batch_size)].strip().split(';')[2])] = 1\n",
    "            yield batch_data, batch_labels #you yield the batch_data and the batch_labels, remember what does yield do\n",
    "\n",
    "\n",
    "        # write the code for the remaining data points which are left after full batches\n",
    "        if(len(t)%batch_size):\n",
    "          unread_img_cnt = len(t)%batch_size\n",
    "          batch_data = np.zeros((unread_img_cnt,len(img_idx),img_height,img_width,3)) # x is the number of images you use for each video, (y,z) is the final size of the input images and 3 is the number of channels RGB\n",
    "          batch_labels = np.zeros((unread_img_cnt,5)) # batch_labels is the one hot representation of the output\n",
    "          for folder in range(unread_img_cnt): # iterate over the batch_size\n",
    "              imgs = os.listdir(source_path+'/'+ t[folder + (num_batches*batch_size)].split(';')[0]) # read all the images in the folder\n",
    "              for idx,item in enumerate(img_idx): #  Iterate iver the frames/images of a folder to read them in\n",
    "                  image = imread(source_path+'/'+ t[folder + (num_batches*batch_size)].strip().split(';')[0]+'/'+imgs[item]).astype(np.float32)\n",
    "\n",
    "                  image_croped=resize(image,(img_height,img_width,3))\n",
    "\n",
    "                  batch_data[folder,idx,:,:,0] = (image_croped[:,:,0])/255\n",
    "                  batch_data[folder,idx,:,:,1] = (image_croped[:,:,1])/255\n",
    "                  batch_data[folder,idx,:,:,2] = (image_croped[:,:,2])/255\n",
    "\n",
    "              batch_labels[folder, int(t[folder + (num_batches*batch_size)].strip().split(';')[2])] = 1\n",
    "          yield batch_data, batch_labels #you yield the batch_data and the batch_labels, remember what does yield do\n"
   ]
  },
  {
   "cell_type": "markdown",
   "metadata": {
    "id": "O5bAamENvz7C"
   },
   "source": [
    "Note here that a video is represented above in the generator as (number of images, height, width, number of channels). Take this into consideration while creating the model architecture."
   ]
  },
  {
   "cell_type": "code",
   "execution_count": 6,
   "metadata": {
    "colab": {
     "base_uri": "https://localhost:8080/"
    },
    "executionInfo": {
     "elapsed": 1278,
     "status": "ok",
     "timestamp": 1709734433371,
     "user": {
      "displayName": "Hari Satuluri",
      "userId": "18305238660923205796"
     },
     "user_tz": -330
    },
    "id": "jZ1p2rkuvz7C",
    "outputId": "71ce2514-6326-4c5a-ce39-600b1664f3ff"
   },
   "outputs": [
    {
     "name": "stdout",
     "output_type": "stream",
     "text": [
      "# training sequences = 663\n",
      "# validation sequences = 100\n",
      "# epochs = 30\n"
     ]
    }
   ],
   "source": [
    "curr_dt_time = datetime.datetime.now()\n",
    "train_path = 'datasets/Project_data/train'\n",
    "val_path = 'datasets/Project_data/val'\n",
    "num_train_sequences = len(train_doc)\n",
    "print('# training sequences =', num_train_sequences)\n",
    "num_val_sequences = len(val_doc)\n",
    "print('# validation sequences =', num_val_sequences)\n",
    "num_epochs = 30 # choose the number of epochs\n",
    "print ('# epochs =', num_epochs)"
   ]
  },
  {
   "cell_type": "markdown",
   "metadata": {
    "id": "SH4y8sDsvz7C"
   },
   "source": [
    "## Model\n",
    "Here you make the model using different functionalities that Keras provides. Remember to use `Conv3D` and `MaxPooling3D` and not `Conv2D` and `Maxpooling2D` for a 3D convolution model. You would want to use `TimeDistributed` while building a Conv2D + RNN model. Also remember that the last layer is the softmax. Design the network in such a way that the model is able to give good accuracy on the least number of parameters so that it can fit in the memory of the webcam."
   ]
  },
  {
   "cell_type": "code",
   "execution_count": 7,
   "metadata": {
    "colab": {
     "base_uri": "https://localhost:8080/"
    },
    "executionInfo": {
     "elapsed": 16,
     "status": "ok",
     "timestamp": 1709734433371,
     "user": {
      "displayName": "Hari Satuluri",
      "userId": "18305238660923205796"
     },
     "user_tz": -330
    },
    "id": "x1NodiF09jfv",
    "outputId": "44e5dd8a-941b-41b1-b165-e9bf52272864"
   },
   "outputs": [
    {
     "name": "stdout",
     "output_type": "stream",
     "text": [
      "/device:GPU:0\n"
     ]
    },
    {
     "name": "stderr",
     "output_type": "stream",
     "text": [
      "2024-03-06 15:58:26.043104: W tensorflow/core/common_runtime/gpu/gpu_bfc_allocator.cc:39] Overriding allow_growth setting because the TF_FORCE_GPU_ALLOW_GROWTH environment variable is set. Original config value was 0.\n",
      "2024-03-06 15:58:26.043161: I tensorflow/core/common_runtime/gpu/gpu_device.cc:1525] Created device /device:GPU:0 with 22849 MB memory:  -> device: 0, name: Quadro RTX 6000, pci bus id: 0000:1e:00.0, compute capability: 7.5\n"
     ]
    }
   ],
   "source": [
    "device_name = tf.test.gpu_device_name()\n",
    "print (device_name)"
   ]
  },
  {
   "cell_type": "code",
   "execution_count": 8,
   "metadata": {
    "executionInfo": {
     "elapsed": 15,
     "status": "ok",
     "timestamp": 1709734433371,
     "user": {
      "displayName": "Hari Satuluri",
      "userId": "18305238660923205796"
     },
     "user_tz": -330
    },
    "id": "uupE9toe3kkc"
   },
   "outputs": [],
   "source": [
    "from keras.models import Sequential, Model\n",
    "from keras.layers import Dense, GRU, Flatten, TimeDistributed, Flatten, BatchNormalization, Activation\n",
    "from keras.layers import Conv2D, Conv3D, MaxPooling2D, MaxPooling3D, GlobalAveragePooling2D\n",
    "from keras.callbacks import ModelCheckpoint, ReduceLROnPlateau\n",
    "from keras import optimizers"
   ]
  },
  {
   "cell_type": "code",
   "execution_count": 9,
   "metadata": {
    "executionInfo": {
     "elapsed": 14,
     "status": "ok",
     "timestamp": 1709734433371,
     "user": {
      "displayName": "Hari Satuluri",
      "userId": "18305238660923205796"
     },
     "user_tz": -330
    },
    "id": "S_oDOG5Nvz7C"
   },
   "outputs": [
    {
     "name": "stderr",
     "output_type": "stream",
     "text": [
      "2024-03-06 15:58:26.077560: I tensorflow/core/common_runtime/gpu/gpu_device.cc:1525] Created device /job:localhost/replica:0/task:0/device:GPU:0 with 22849 MB memory:  -> device: 0, name: Quadro RTX 6000, pci bus id: 0000:1e:00.0, compute capability: 7.5\n"
     ]
    }
   ],
   "source": [
    "\n",
    "with tf.device(device_name):\n",
    "  model = Sequential()\n",
    "  model.add(TimeDistributed(\n",
    "      Conv2D(32, (3,3), activation='relu'), input_shape=(len(img_idx),100,100,3))\n",
    "  )\n",
    "  model.add(TimeDistributed(\n",
    "      MaxPooling2D((2,2)))\n",
    "  )\n",
    "  model.add(BatchNormalization())\n",
    "\n",
    "  model.add(TimeDistributed(\n",
    "      Conv2D(64, (3,3), activation='relu'))\n",
    "  )\n",
    "  model.add(TimeDistributed(\n",
    "      MaxPooling2D((2,2)))\n",
    "  )\n",
    "  model.add(BatchNormalization())\n",
    "\n",
    "  model.add(TimeDistributed(GlobalAveragePooling2D()))\n",
    "  model.add(TimeDistributed(Dense(64, activation='relu')))\n",
    "  model.add(BatchNormalization())\n",
    "\n",
    "  model.add(GRU(128))\n",
    "  model.add(BatchNormalization())\n",
    "  model.add(Dense(5, activation='softmax'))"
   ]
  },
  {
   "cell_type": "code",
   "execution_count": 10,
   "metadata": {
    "executionInfo": {
     "elapsed": 14,
     "status": "ok",
     "timestamp": 1709734433371,
     "user": {
      "displayName": "Hari Satuluri",
      "userId": "18305238660923205796"
     },
     "user_tz": -330
    },
    "id": "-UEKYuzv3isg"
   },
   "outputs": [],
   "source": [
    "# with tf.device(device_name):\n",
    "#   model = Sequential()\n",
    "#   model.add(Conv3D(32, kernel_size=3, activation='relu', input_shape=(len(img_idx),100,100,3)))\n",
    "#   model.add(MaxPooling3D(pool_size=2))\n",
    "\n",
    "#   model.add(Conv3D(64, kernel_size=3, activation='relu'))\n",
    "#   model.add(MaxPooling3D(pool_size=2))\n",
    "\n",
    "#   model.add(Flatten())\n",
    "#   model.add(Dense(256, activation='relu'))\n",
    "#   model.add(Dense(5, activation='softmax'))"
   ]
  },
  {
   "cell_type": "code",
   "execution_count": 11,
   "metadata": {},
   "outputs": [],
   "source": [
    "# with tf.device(device_name):\n",
    "\n",
    "#     model = Sequential()\n",
    "\n",
    "#     model.add(Conv3D(32, kernel_size=3, activation='relu', input_shape=(len(img_idx),100,100,3)))\n",
    "#     model.add(Conv3D(64, kernel_size=3, activation='relu'))\n",
    "#     model.add(MaxPooling3D(pool_size=(2, 2, 2)))\n",
    "\n",
    "#     model.add(Conv3D(64, kernel_size=3, activation='relu'))\n",
    "#     model.add(MaxPooling3D(pool_size=(2, 2, 2), strides=(1, 1, 1), padding='same'))\n",
    "\n",
    "#     model.add(Conv3D(256, kernel_size=(3, 3, 3), activation='relu', padding='same'))\n",
    "#     model.add(MaxPooling3D(pool_size=(3, 2, 2), strides=(2, 2, 2), padding='same'))\n",
    "#     model.add(Conv3D(512, kernel_size=(3, 3, 3), activation='relu', padding='same'))\n",
    "#     model.add(Flatten())\n",
    "#     model.add(Dense(512, activation='relu'))\n",
    "#     model.add(Dense(5, activation='softmax'))"
   ]
  },
  {
   "cell_type": "code",
   "execution_count": 12,
   "metadata": {},
   "outputs": [],
   "source": [
    "# with tf.device(device_name):\n",
    "#     model = Sequential()\n",
    "#     model.add(TimeDistributed(\n",
    "#         Conv2D(8, (3,3), activation='relu'), input_shape=(len(img_idx),100,100,3))\n",
    "#     )\n",
    "#     model.add(BatchNormalization())\n",
    "#     model.add(TimeDistributed(\n",
    "#         Conv2D(16, (3,3), activation='relu'))\n",
    "#     )\n",
    "#     model.add(BatchNormalization())\n",
    "#     model.add(\n",
    "#         ConvLSTM2D(8, kernel_size = 3, return_sequences=False)\n",
    "#     )\n",
    "#     model.add(BatchNormalization())\n",
    "#     model.add(TimeDistributed(\n",
    "#         Dense(64, activation='relu'))\n",
    "#     )\n",
    "#     model.add(BatchNormalization())\n",
    "#     model.add(GlobalAveragePooling2D())\n",
    "#     model.add(Dense(64, activation='relu'))\n",
    "#     model.add(Dense(5, activation='softmax'))"
   ]
  },
  {
   "cell_type": "markdown",
   "metadata": {
    "id": "vm5eIMYxvz7D"
   },
   "source": [
    "Now that you have written the model, the next step is to `compile` the model. When you print the `summary` of the model, you'll see the total number of parameters you have to train."
   ]
  },
  {
   "cell_type": "code",
   "execution_count": 13,
   "metadata": {
    "colab": {
     "base_uri": "https://localhost:8080/"
    },
    "executionInfo": {
     "elapsed": 13,
     "status": "ok",
     "timestamp": 1709734433371,
     "user": {
      "displayName": "Hari Satuluri",
      "userId": "18305238660923205796"
     },
     "user_tz": -330
    },
    "id": "RM3I1CNTvz7D",
    "outputId": "dc336875-c4fa-4984-f371-8bd39606661d",
    "scrolled": true
   },
   "outputs": [
    {
     "name": "stdout",
     "output_type": "stream",
     "text": [
      "Model: \"sequential\"\n",
      "_________________________________________________________________\n",
      " Layer (type)                Output Shape              Param #   \n",
      "=================================================================\n",
      " time_distributed (TimeDistr  (None, 13, 98, 98, 32)   896       \n",
      " ibuted)                                                         \n",
      "                                                                 \n",
      " time_distributed_1 (TimeDis  (None, 13, 49, 49, 32)   0         \n",
      " tributed)                                                       \n",
      "                                                                 \n",
      " batch_normalization (BatchN  (None, 13, 49, 49, 32)   128       \n",
      " ormalization)                                                   \n",
      "                                                                 \n",
      " time_distributed_2 (TimeDis  (None, 13, 47, 47, 64)   18496     \n",
      " tributed)                                                       \n",
      "                                                                 \n",
      " time_distributed_3 (TimeDis  (None, 13, 23, 23, 64)   0         \n",
      " tributed)                                                       \n",
      "                                                                 \n",
      " batch_normalization_1 (Batc  (None, 13, 23, 23, 64)   256       \n",
      " hNormalization)                                                 \n",
      "                                                                 \n",
      " time_distributed_4 (TimeDis  (None, 13, 64)           0         \n",
      " tributed)                                                       \n",
      "                                                                 \n",
      " time_distributed_5 (TimeDis  (None, 13, 64)           4160      \n",
      " tributed)                                                       \n",
      "                                                                 \n",
      " batch_normalization_2 (Batc  (None, 13, 64)           256       \n",
      " hNormalization)                                                 \n",
      "                                                                 \n",
      " gru (GRU)                   (None, 128)               74496     \n",
      "                                                                 \n",
      " batch_normalization_3 (Batc  (None, 128)              512       \n",
      " hNormalization)                                                 \n",
      "                                                                 \n",
      " dense_1 (Dense)             (None, 5)                 645       \n",
      "                                                                 \n",
      "=================================================================\n",
      "Total params: 99,845\n",
      "Trainable params: 99,269\n",
      "Non-trainable params: 576\n",
      "_________________________________________________________________\n",
      "None\n"
     ]
    }
   ],
   "source": [
    "with tf.device(device_name):\n",
    "  optimiser = 'adam' #write your optimizer\n",
    "  model.compile(optimizer=optimiser, loss='categorical_crossentropy', metrics=['categorical_accuracy'])\n",
    "  print (model.summary())"
   ]
  },
  {
   "cell_type": "markdown",
   "metadata": {
    "id": "aEGyWkhIvz7D"
   },
   "source": [
    "Let us create the `train_generator` and the `val_generator` which will be used in `.fit_generator`."
   ]
  },
  {
   "cell_type": "code",
   "execution_count": 14,
   "metadata": {
    "executionInfo": {
     "elapsed": 8,
     "status": "ok",
     "timestamp": 1709734433372,
     "user": {
      "displayName": "Hari Satuluri",
      "userId": "18305238660923205796"
     },
     "user_tz": -330
    },
    "id": "zEO_mAA5vz7D"
   },
   "outputs": [],
   "source": [
    "train_generator = generator(train_path, train_doc, batch_size)\n",
    "val_generator = generator(val_path, val_doc, batch_size)"
   ]
  },
  {
   "cell_type": "code",
   "execution_count": 15,
   "metadata": {
    "executionInfo": {
     "elapsed": 7,
     "status": "ok",
     "timestamp": 1709734433372,
     "user": {
      "displayName": "Hari Satuluri",
      "userId": "18305238660923205796"
     },
     "user_tz": -330
    },
    "id": "MwKgAfWyvz7D"
   },
   "outputs": [],
   "source": [
    "def model_callbacks(folder_name):\n",
    "    model_name = str(folder_name) + '_' + str(curr_dt_time).replace(' ','').replace(':','_') + '/'\n",
    "\n",
    "    if not os.path.exists(model_name):\n",
    "        os.mkdir(model_name)\n",
    "\n",
    "    filepath = model_name + 'model-{epoch:05d}-{loss:.5f}-{categorical_accuracy:.5f}-{val_loss:.5f}-{val_categorical_accuracy:.5f}.h5'\n",
    "\n",
    "    checkpoint = ModelCheckpoint(filepath, monitor='val_loss', verbose=1, save_best_only=True, save_weights_only=False, mode='auto', period=1)\n",
    "\n",
    "    LR = ReduceLROnPlateau(monitor='val_loss', factor=0.1, patience=3, min_lr=0.0001, cooldown=1, verbose=1) # write the REducelronplateau code here\n",
    "\n",
    "    return [checkpoint, LR]"
   ]
  },
  {
   "cell_type": "markdown",
   "metadata": {
    "id": "4VuNvM5Ivz7E"
   },
   "source": [
    "The `steps_per_epoch` and `validation_steps` are used by `fit_generator` to decide the number of next() calls it need to make."
   ]
  },
  {
   "cell_type": "code",
   "execution_count": 16,
   "metadata": {
    "colab": {
     "base_uri": "https://localhost:8080/"
    },
    "executionInfo": {
     "elapsed": 7,
     "status": "ok",
     "timestamp": 1709734433372,
     "user": {
      "displayName": "Hari Satuluri",
      "userId": "18305238660923205796"
     },
     "user_tz": -330
    },
    "id": "srYstYaqvz7E",
    "outputId": "63fe1da1-6ed5-4a39-ddb0-da4359df6305"
   },
   "outputs": [
    {
     "name": "stdout",
     "output_type": "stream",
     "text": [
      "WARNING:tensorflow:`period` argument is deprecated. Please use `save_freq` to specify the frequency in number of batches seen.\n"
     ]
    }
   ],
   "source": [
    "callbacks_list = model_callbacks(\"model_2D\")\n",
    "\n",
    "if (num_train_sequences%batch_size) == 0:\n",
    "    steps_per_epoch = int(num_train_sequences/batch_size)\n",
    "else:\n",
    "    steps_per_epoch = (num_train_sequences//batch_size) + 1\n",
    "\n",
    "if (num_val_sequences%batch_size) == 0:\n",
    "    validation_steps = int(num_val_sequences/batch_size)\n",
    "else:\n",
    "    validation_steps = (num_val_sequences//batch_size) + 1"
   ]
  },
  {
   "cell_type": "markdown",
   "metadata": {
    "id": "7ruOgUmJvz7E"
   },
   "source": [
    "Let us now fit the model. This will start training the model and with the help of the checkpoints, you'll be able to save the model at the end of each epoch."
   ]
  },
  {
   "cell_type": "code",
   "execution_count": 17,
   "metadata": {
    "colab": {
     "base_uri": "https://localhost:8080/"
    },
    "id": "8NjzM-Bmvz7E",
    "outputId": "0de08d58-837f-4e64-9844-039613b254ee"
   },
   "outputs": [
    {
     "name": "stdout",
     "output_type": "stream",
     "text": [
      "Source path =  datasets/Project_data/train ; batch size = 32\n"
     ]
    },
    {
     "name": "stderr",
     "output_type": "stream",
     "text": [
      "/tmp/ipykernel_783/2585147562.py:1: UserWarning: `Model.fit_generator` is deprecated and will be removed in a future version. Please use `Model.fit`, which supports generators.\n",
      "  history = model.fit_generator(train_generator, steps_per_epoch=steps_per_epoch, epochs=num_epochs, verbose=1,\n"
     ]
    },
    {
     "name": "stdout",
     "output_type": "stream",
     "text": [
      "Epoch 1/30\n"
     ]
    },
    {
     "name": "stderr",
     "output_type": "stream",
     "text": [
      "2024-03-06 15:58:34.709186: I tensorflow/stream_executor/cuda/cuda_dnn.cc:377] Loaded cuDNN version 8302\n"
     ]
    },
    {
     "name": "stdout",
     "output_type": "stream",
     "text": [
      "21/21 [==============================] - ETA: 0s - loss: 1.3068 - categorical_accuracy: 0.4781Source path =  datasets/Project_data/val ; batch size = 32\n",
      "\n",
      "Epoch 00001: val_loss improved from inf to 1.60204, saving model to model_2D_2024-03-0615_58_25.241986/model-00001-1.30676-0.47813-1.60204-0.18000.h5\n",
      "21/21 [==============================] - 134s 6s/step - loss: 1.3068 - categorical_accuracy: 0.4781 - val_loss: 1.6020 - val_categorical_accuracy: 0.1800 - lr: 0.0010\n",
      "Epoch 2/30\n",
      "21/21 [==============================] - ETA: 0s - loss: 1.0348 - categorical_accuracy: 0.5611\n",
      "Epoch 00002: val_loss improved from 1.60204 to 1.59793, saving model to model_2D_2024-03-0615_58_25.241986/model-00002-1.03479-0.56109-1.59793-0.31000.h5\n",
      "21/21 [==============================] - 130s 7s/step - loss: 1.0348 - categorical_accuracy: 0.5611 - val_loss: 1.5979 - val_categorical_accuracy: 0.3100 - lr: 0.0010\n",
      "Epoch 3/30\n",
      "21/21 [==============================] - ETA: 0s - loss: 0.8218 - categorical_accuracy: 0.6712\n",
      "Epoch 00003: val_loss did not improve from 1.59793\n",
      "21/21 [==============================] - 131s 7s/step - loss: 0.8218 - categorical_accuracy: 0.6712 - val_loss: 1.6048 - val_categorical_accuracy: 0.2100 - lr: 0.0010\n",
      "Epoch 4/30\n",
      "21/21 [==============================] - ETA: 0s - loss: 0.7049 - categorical_accuracy: 0.7179\n",
      "Epoch 00004: val_loss improved from 1.59793 to 1.58600, saving model to model_2D_2024-03-0615_58_25.241986/model-00004-0.70492-0.71795-1.58600-0.22000.h5\n",
      "21/21 [==============================] - 116s 6s/step - loss: 0.7049 - categorical_accuracy: 0.7179 - val_loss: 1.5860 - val_categorical_accuracy: 0.2200 - lr: 0.0010\n",
      "Epoch 5/30\n",
      "21/21 [==============================] - ETA: 0s - loss: 0.6671 - categorical_accuracy: 0.7149\n",
      "Epoch 00005: val_loss did not improve from 1.58600\n",
      "21/21 [==============================] - 119s 6s/step - loss: 0.6671 - categorical_accuracy: 0.7149 - val_loss: 1.5959 - val_categorical_accuracy: 0.2200 - lr: 0.0010\n",
      "Epoch 6/30\n",
      "21/21 [==============================] - ETA: 0s - loss: 0.6284 - categorical_accuracy: 0.7391\n",
      "Epoch 00006: val_loss did not improve from 1.58600\n",
      "21/21 [==============================] - 119s 6s/step - loss: 0.6284 - categorical_accuracy: 0.7391 - val_loss: 1.5990 - val_categorical_accuracy: 0.2000 - lr: 0.0010\n",
      "Epoch 7/30\n",
      "21/21 [==============================] - ETA: 0s - loss: 0.5106 - categorical_accuracy: 0.7949\n",
      "Epoch 00007: val_loss did not improve from 1.58600\n",
      "\n",
      "Epoch 00007: ReduceLROnPlateau reducing learning rate to 0.00010000000474974513.\n",
      "21/21 [==============================] - 123s 6s/step - loss: 0.5106 - categorical_accuracy: 0.7949 - val_loss: 1.6028 - val_categorical_accuracy: 0.2300 - lr: 0.0010\n",
      "Epoch 8/30\n",
      "21/21 [==============================] - ETA: 0s - loss: 0.4331 - categorical_accuracy: 0.8296\n",
      "Epoch 00008: val_loss improved from 1.58600 to 1.58208, saving model to model_2D_2024-03-0615_58_25.241986/model-00008-0.43314-0.82956-1.58208-0.31000.h5\n",
      "21/21 [==============================] - 124s 6s/step - loss: 0.4331 - categorical_accuracy: 0.8296 - val_loss: 1.5821 - val_categorical_accuracy: 0.3100 - lr: 1.0000e-04\n",
      "Epoch 9/30\n",
      "21/21 [==============================] - ETA: 0s - loss: 0.3730 - categorical_accuracy: 0.8612\n",
      "Epoch 00009: val_loss improved from 1.58208 to 1.56557, saving model to model_2D_2024-03-0615_58_25.241986/model-00009-0.37302-0.86124-1.56557-0.24000.h5\n",
      "21/21 [==============================] - 120s 6s/step - loss: 0.3730 - categorical_accuracy: 0.8612 - val_loss: 1.5656 - val_categorical_accuracy: 0.2400 - lr: 1.0000e-04\n",
      "Epoch 10/30\n",
      "21/21 [==============================] - ETA: 0s - loss: 0.3734 - categorical_accuracy: 0.8627\n",
      "Epoch 00010: val_loss did not improve from 1.56557\n",
      "21/21 [==============================] - 126s 6s/step - loss: 0.3734 - categorical_accuracy: 0.8627 - val_loss: 1.5764 - val_categorical_accuracy: 0.2200 - lr: 1.0000e-04\n",
      "Epoch 11/30\n",
      "21/21 [==============================] - ETA: 0s - loss: 0.3265 - categorical_accuracy: 0.8899\n",
      "Epoch 00011: val_loss did not improve from 1.56557\n",
      "21/21 [==============================] - 129s 6s/step - loss: 0.3265 - categorical_accuracy: 0.8899 - val_loss: 1.6649 - val_categorical_accuracy: 0.1800 - lr: 1.0000e-04\n",
      "Epoch 12/30\n",
      "21/21 [==============================] - ETA: 0s - loss: 0.3265 - categorical_accuracy: 0.8763\n",
      "Epoch 00012: val_loss did not improve from 1.56557\n",
      "\n",
      "Epoch 00012: ReduceLROnPlateau reducing learning rate to 0.0001.\n",
      "21/21 [==============================] - 118s 6s/step - loss: 0.3265 - categorical_accuracy: 0.8763 - val_loss: 1.7327 - val_categorical_accuracy: 0.2200 - lr: 1.0000e-04\n",
      "Epoch 13/30\n",
      "21/21 [==============================] - ETA: 0s - loss: 0.3380 - categorical_accuracy: 0.8808\n",
      "Epoch 00013: val_loss did not improve from 1.56557\n",
      "21/21 [==============================] - 123s 6s/step - loss: 0.3380 - categorical_accuracy: 0.8808 - val_loss: 1.8587 - val_categorical_accuracy: 0.2200 - lr: 1.0000e-04\n",
      "Epoch 14/30\n",
      "21/21 [==============================] - ETA: 0s - loss: 0.3044 - categorical_accuracy: 0.9050\n",
      "Epoch 00014: val_loss did not improve from 1.56557\n",
      "21/21 [==============================] - 129s 6s/step - loss: 0.3044 - categorical_accuracy: 0.9050 - val_loss: 1.9983 - val_categorical_accuracy: 0.2100 - lr: 1.0000e-04\n",
      "Epoch 15/30\n",
      "21/21 [==============================] - ETA: 0s - loss: 0.3215 - categorical_accuracy: 0.8824\n",
      "Epoch 00015: val_loss did not improve from 1.56557\n",
      "21/21 [==============================] - 126s 6s/step - loss: 0.3215 - categorical_accuracy: 0.8824 - val_loss: 2.2209 - val_categorical_accuracy: 0.2000 - lr: 1.0000e-04\n",
      "Epoch 16/30\n",
      "21/21 [==============================] - ETA: 0s - loss: 0.3103 - categorical_accuracy: 0.8914\n",
      "Epoch 00016: val_loss did not improve from 1.56557\n",
      "21/21 [==============================] - 118s 6s/step - loss: 0.3103 - categorical_accuracy: 0.8914 - val_loss: 2.0985 - val_categorical_accuracy: 0.2400 - lr: 1.0000e-04\n",
      "Epoch 17/30\n",
      "21/21 [==============================] - ETA: 0s - loss: 0.2998 - categorical_accuracy: 0.8899\n",
      "Epoch 00017: val_loss did not improve from 1.56557\n",
      "21/21 [==============================] - 131s 7s/step - loss: 0.2998 - categorical_accuracy: 0.8899 - val_loss: 2.1779 - val_categorical_accuracy: 0.2400 - lr: 1.0000e-04\n",
      "Epoch 18/30\n",
      "21/21 [==============================] - ETA: 0s - loss: 0.3135 - categorical_accuracy: 0.8899\n",
      "Epoch 00018: val_loss did not improve from 1.56557\n",
      "21/21 [==============================] - 124s 6s/step - loss: 0.3135 - categorical_accuracy: 0.8899 - val_loss: 2.1392 - val_categorical_accuracy: 0.2600 - lr: 1.0000e-04\n",
      "Epoch 19/30\n",
      "21/21 [==============================] - ETA: 0s - loss: 0.2677 - categorical_accuracy: 0.9155\n",
      "Epoch 00019: val_loss did not improve from 1.56557\n",
      "21/21 [==============================] - 123s 6s/step - loss: 0.2677 - categorical_accuracy: 0.9155 - val_loss: 2.1195 - val_categorical_accuracy: 0.3000 - lr: 1.0000e-04\n",
      "Epoch 20/30\n",
      "21/21 [==============================] - ETA: 0s - loss: 0.2541 - categorical_accuracy: 0.9216\n",
      "Epoch 00020: val_loss did not improve from 1.56557\n",
      "21/21 [==============================] - 115s 6s/step - loss: 0.2541 - categorical_accuracy: 0.9216 - val_loss: 2.2180 - val_categorical_accuracy: 0.3000 - lr: 1.0000e-04\n",
      "Epoch 21/30\n",
      "21/21 [==============================] - ETA: 0s - loss: 0.2607 - categorical_accuracy: 0.9050\n",
      "Epoch 00021: val_loss did not improve from 1.56557\n",
      "21/21 [==============================] - 121s 6s/step - loss: 0.2607 - categorical_accuracy: 0.9050 - val_loss: 2.2295 - val_categorical_accuracy: 0.2900 - lr: 1.0000e-04\n",
      "Epoch 22/30\n",
      "21/21 [==============================] - ETA: 0s - loss: 0.2749 - categorical_accuracy: 0.9020\n",
      "Epoch 00022: val_loss did not improve from 1.56557\n",
      "21/21 [==============================] - 120s 6s/step - loss: 0.2749 - categorical_accuracy: 0.9020 - val_loss: 2.2226 - val_categorical_accuracy: 0.2800 - lr: 1.0000e-04\n",
      "Epoch 23/30\n",
      "21/21 [==============================] - ETA: 0s - loss: 0.2850 - categorical_accuracy: 0.8929\n",
      "Epoch 00023: val_loss did not improve from 1.56557\n",
      "21/21 [==============================] - 117s 6s/step - loss: 0.2850 - categorical_accuracy: 0.8929 - val_loss: 2.0326 - val_categorical_accuracy: 0.3200 - lr: 1.0000e-04\n",
      "Epoch 24/30\n",
      "21/21 [==============================] - ETA: 0s - loss: 0.2814 - categorical_accuracy: 0.8914\n",
      "Epoch 00024: val_loss did not improve from 1.56557\n",
      "21/21 [==============================] - 113s 6s/step - loss: 0.2814 - categorical_accuracy: 0.8914 - val_loss: 2.1766 - val_categorical_accuracy: 0.3300 - lr: 1.0000e-04\n",
      "Epoch 25/30\n",
      "21/21 [==============================] - ETA: 0s - loss: 0.2528 - categorical_accuracy: 0.9110\n",
      "Epoch 00025: val_loss did not improve from 1.56557\n",
      "21/21 [==============================] - 119s 6s/step - loss: 0.2528 - categorical_accuracy: 0.9110 - val_loss: 1.8429 - val_categorical_accuracy: 0.3700 - lr: 1.0000e-04\n",
      "Epoch 26/30\n",
      "21/21 [==============================] - ETA: 0s - loss: 0.2334 - categorical_accuracy: 0.9276\n",
      "Epoch 00026: val_loss improved from 1.56557 to 1.52503, saving model to model_2D_2024-03-0615_58_25.241986/model-00026-0.23344-0.92760-1.52503-0.46000.h5\n",
      "21/21 [==============================] - 119s 6s/step - loss: 0.2334 - categorical_accuracy: 0.9276 - val_loss: 1.5250 - val_categorical_accuracy: 0.4600 - lr: 1.0000e-04\n",
      "Epoch 27/30\n",
      "21/21 [==============================] - ETA: 0s - loss: 0.2322 - categorical_accuracy: 0.9231\n",
      "Epoch 00027: val_loss improved from 1.52503 to 1.51009, saving model to model_2D_2024-03-0615_58_25.241986/model-00027-0.23219-0.92308-1.51009-0.47000.h5\n",
      "21/21 [==============================] - 118s 6s/step - loss: 0.2322 - categorical_accuracy: 0.9231 - val_loss: 1.5101 - val_categorical_accuracy: 0.4700 - lr: 1.0000e-04\n",
      "Epoch 28/30\n",
      "21/21 [==============================] - ETA: 0s - loss: 0.2492 - categorical_accuracy: 0.9246\n",
      "Epoch 00028: val_loss improved from 1.51009 to 1.41194, saving model to model_2D_2024-03-0615_58_25.241986/model-00028-0.24919-0.92459-1.41194-0.53000.h5\n",
      "21/21 [==============================] - 112s 6s/step - loss: 0.2492 - categorical_accuracy: 0.9246 - val_loss: 1.4119 - val_categorical_accuracy: 0.5300 - lr: 1.0000e-04\n",
      "Epoch 29/30\n",
      "21/21 [==============================] - ETA: 0s - loss: 0.2081 - categorical_accuracy: 0.9382\n",
      "Epoch 00029: val_loss improved from 1.41194 to 1.14410, saving model to model_2D_2024-03-0615_58_25.241986/model-00029-0.20814-0.93816-1.14410-0.57000.h5\n",
      "21/21 [==============================] - 120s 6s/step - loss: 0.2081 - categorical_accuracy: 0.9382 - val_loss: 1.1441 - val_categorical_accuracy: 0.5700 - lr: 1.0000e-04\n",
      "Epoch 30/30\n",
      "21/21 [==============================] - ETA: 0s - loss: 0.2086 - categorical_accuracy: 0.9306\n",
      "Epoch 00030: val_loss improved from 1.14410 to 0.90276, saving model to model_2D_2024-03-0615_58_25.241986/model-00030-0.20860-0.93062-0.90276-0.63000.h5\n",
      "21/21 [==============================] - 115s 6s/step - loss: 0.2086 - categorical_accuracy: 0.9306 - val_loss: 0.9028 - val_categorical_accuracy: 0.6300 - lr: 1.0000e-04\n"
     ]
    }
   ],
   "source": [
    "history = model.fit_generator(train_generator, steps_per_epoch=steps_per_epoch, epochs=num_epochs, verbose=1,\n",
    "                    callbacks=callbacks_list, validation_data=val_generator,\n",
    "                    validation_steps=validation_steps, class_weight=None, workers=1, initial_epoch=0)"
   ]
  },
  {
   "cell_type": "code",
   "execution_count": 18,
   "metadata": {
    "id": "zbIJoYwgvz7E"
   },
   "outputs": [
    {
     "name": "stdout",
     "output_type": "stream",
     "text": [
      "dict_keys(['loss', 'categorical_accuracy', 'val_loss', 'val_categorical_accuracy', 'lr'])\n"
     ]
    },
    {
     "data": {
      "image/png": "[encoded data removed]",
      "text/plain": [
       "<Figure size 432x288 with 1 Axes>"
      ]
     },
     "metadata": {
      "needs_background": "light"
     },
     "output_type": "display_data"
    },
    {
     "data": {
      "image/png": "[encoded data removed]",
      "text/plain": [
       "<Figure size 432x288 with 1 Axes>"
      ]
     },
     "metadata": {
      "needs_background": "light"
     },
     "output_type": "display_data"
    }
   ],
   "source": [
    "import matplotlib.pyplot as plt\n",
    "# list all data in history\n",
    "print(history.history.keys())\n",
    "# summarize history for accuracy\n",
    "plt.plot(history.history['categorical_accuracy'])\n",
    "plt.plot(history.history['val_categorical_accuracy'])\n",
    "plt.title('model accuracy')\n",
    "plt.ylabel('accuracy')\n",
    "plt.xlabel('epoch')\n",
    "plt.legend(['train', 'test'], loc='upper left')\n",
    "plt.show()\n",
    "# summarize history for loss\n",
    "plt.plot(history.history['loss'])\n",
    "plt.plot(history.history['val_loss'])\n",
    "plt.title('model loss')\n",
    "plt.ylabel('loss')\n",
    "plt.xlabel('epoch')\n",
    "plt.legend(['train', 'test'], loc='upper left')\n",
    "plt.show()"
   ]
  }
 ],
 "metadata": {
  "accelerator": "GPU",
  "colab": {
   "gpuType": "T4",
   "provenance": []
  },
  "kernelspec": {
   "display_name": "Python 3 (ipykernel)",
   "language": "python",
   "name": "python3"
  },
  "language_info": {
   "codemirror_mode": {
    "name": "ipython",
    "version": 3
   },
   "file_extension": ".py",
   "mimetype": "text/x-python",
   "name": "python",
   "nbconvert_exporter": "python",
   "pygments_lexer": "ipython3",
   "version": "3.8.10"
  }
 },
 "nbformat": 4,
 "nbformat_minor": 4
}
